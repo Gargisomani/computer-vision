{
 "cells": [
  {
   "cell_type": "markdown",
   "id": "61f90551",
   "metadata": {},
   "source": [
    "# Image and Combine it to form single image. For example collage "
   ]
  },
  {
   "cell_type": "code",
   "execution_count": 1,
   "id": "62147399",
   "metadata": {},
   "outputs": [],
   "source": [
    "import cv2"
   ]
  },
  {
   "cell_type": "code",
   "execution_count": 2,
   "id": "0ab1f464",
   "metadata": {},
   "outputs": [],
   "source": [
    "Flashimage=cv2.imread(\"Flash_cimage.jpg\")"
   ]
  },
  {
   "cell_type": "code",
   "execution_count": 3,
   "id": "b80b5ff8",
   "metadata": {},
   "outputs": [],
   "source": [
    "Spidermanimage=cv2.imread(\"Spiderman_cimage.jpg\")"
   ]
  },
  {
   "cell_type": "code",
   "execution_count": 4,
   "id": "1331abd6",
   "metadata": {},
   "outputs": [],
   "source": [
    "cv2.imshow(\"Spiderman\",Spidermanimage)\n",
    "cv2.waitKey()\n",
    "cv2.destroyAllWindows()"
   ]
  },
  {
   "cell_type": "code",
   "execution_count": 5,
   "id": "5041f2e6",
   "metadata": {},
   "outputs": [],
   "source": [
    "cv2.imshow(\"Flash\",Flashimage)\n",
    "cv2.waitKey()\n",
    "cv2.destroyAllWindows()"
   ]
  },
  {
   "cell_type": "code",
   "execution_count": 6,
   "id": "5827a489",
   "metadata": {},
   "outputs": [],
   "source": [
    "fcimage=Flashimage[:,130:]"
   ]
  },
  {
   "cell_type": "code",
   "execution_count": 7,
   "id": "6b13253d",
   "metadata": {},
   "outputs": [],
   "source": [
    "Spidermanimage[:,130:]=fcimage"
   ]
  },
  {
   "cell_type": "code",
   "execution_count": 8,
   "id": "806d0d68",
   "metadata": {},
   "outputs": [],
   "source": [
    "cv2.imshow(\"Collage\",Spidermanimage)\n",
    "cv2.waitKey()\n",
    "cv2.destroyAllWindows()"
   ]
  },
  {
   "cell_type": "code",
   "execution_count": null,
   "id": "2b6d4a3e",
   "metadata": {},
   "outputs": [],
   "source": []
  }
 ],
 "metadata": {
  "kernelspec": {
   "display_name": "Python 3",
   "language": "python",
   "name": "python3"
  },
  "language_info": {
   "codemirror_mode": {
    "name": "ipython",
    "version": 3
   },
   "file_extension": ".py",
   "mimetype": "text/x-python",
   "name": "python",
   "nbconvert_exporter": "python",
   "pygments_lexer": "ipython3",
   "version": "3.6.2"
  }
 },
 "nbformat": 4,
 "nbformat_minor": 5
}
