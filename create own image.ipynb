{
 "cells": [
  {
   "cell_type": "markdown",
   "id": "94367db5",
   "metadata": {},
   "source": [
    "# Create own Image"
   ]
  },
  {
   "cell_type": "code",
   "execution_count": 1,
   "id": "cf0ea8c0",
   "metadata": {},
   "outputs": [],
   "source": [
    "import cv2\n",
    "import numpy"
   ]
  },
  {
   "cell_type": "code",
   "execution_count": 2,
   "id": "f2286a56",
   "metadata": {},
   "outputs": [],
   "source": [
    "cimage=numpy.zeros((600,600,3))"
   ]
  },
  {
   "cell_type": "code",
   "execution_count": 3,
   "id": "af2701bd",
   "metadata": {},
   "outputs": [],
   "source": [
    "for i in range(50,601,50):\n",
    "    cv2.rectangle(cimage,(50+i,50+i),(550-i,550-i),[255, 0,0],2)\n",
    "for i in range(40,601,40):\n",
    "    cv2.rectangle(cimage,(40+i,40+i),(560-i,560-i),[0, 255, 0],2)\n",
    "for i in range(30,601,30):\n",
    "    cv2.rectangle(cimage,(30+i,30+i),(570-i,570-i),[0, 138, 236],2)\n",
    "for i in range(17,601,17):\n",
    "    cv2.rectangle(cimage,(17+i,17+i),(583-i,583-i),[255,102 ,255],2)"
   ]
  },
  {
   "cell_type": "code",
   "execution_count": 4,
   "id": "cc8000a9",
   "metadata": {},
   "outputs": [],
   "source": [
    "cv2.imshow(\"own image\",cimage)\n",
    "cv2.waitKey()\n",
    "cv2.destroyAllWindows()"
   ]
  },
  {
   "cell_type": "code",
   "execution_count": 5,
   "id": "8ebb3bed",
   "metadata": {},
   "outputs": [
    {
     "data": {
      "text/plain": [
       "True"
      ]
     },
     "execution_count": 5,
     "metadata": {},
     "output_type": "execute_result"
    }
   ],
   "source": [
    "cv2.imwrite(\"create_own_image.jpg\",cimage)"
   ]
  },
  {
   "cell_type": "code",
   "execution_count": null,
   "id": "b023de0f",
   "metadata": {},
   "outputs": [],
   "source": []
  }
 ],
 "metadata": {
  "kernelspec": {
   "display_name": "Python 3",
   "language": "python",
   "name": "python3"
  },
  "language_info": {
   "codemirror_mode": {
    "name": "ipython",
    "version": 3
   },
   "file_extension": ".py",
   "mimetype": "text/x-python",
   "name": "python",
   "nbconvert_exporter": "python",
   "pygments_lexer": "ipython3",
   "version": "3.6.2"
  }
 },
 "nbformat": 4,
 "nbformat_minor": 5
}
