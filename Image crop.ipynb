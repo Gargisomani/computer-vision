{
 "cells": [
  {
   "cell_type": "markdown",
   "id": "bb66fc2a",
   "metadata": {},
   "source": [
    "# Image crop some part of both image and swap it. "
   ]
  },
  {
   "cell_type": "code",
   "execution_count": 1,
   "id": "ce5695a9",
   "metadata": {},
   "outputs": [],
   "source": [
    "import cv2"
   ]
  },
  {
   "cell_type": "code",
   "execution_count": 2,
   "id": "e1dc43cf",
   "metadata": {},
   "outputs": [],
   "source": [
    "Sphoto = cv2.imread('Spiderman.jpeg')\n",
    "cv2.imshow(\"Spiderman\",Sphoto)\n",
    "cv2.waitKey()\n",
    "cv2.destroyAllWindows()"
   ]
  },
  {
   "cell_type": "code",
   "execution_count": 3,
   "id": "49c3036b",
   "metadata": {},
   "outputs": [],
   "source": [
    "Scphoto=Sphoto[60:460,320:580]"
   ]
  },
  {
   "cell_type": "code",
   "execution_count": 4,
   "id": "ae790caa",
   "metadata": {},
   "outputs": [],
   "source": [
    "cv2.imshow(\"Spiderman\",Scphoto)\n",
    "cv2.waitKey()\n",
    "cv2.destroyAllWindows()"
   ]
  },
  {
   "cell_type": "code",
   "execution_count": 5,
   "id": "886f96aa",
   "metadata": {},
   "outputs": [
    {
     "data": {
      "text/plain": [
       "True"
      ]
     },
     "execution_count": 5,
     "metadata": {},
     "output_type": "execute_result"
    }
   ],
   "source": [
    "cv2.imwrite(\"Spiderman_cimage.jpg\",Scphoto)"
   ]
  },
  {
   "cell_type": "code",
   "execution_count": 6,
   "id": "fa2901f2",
   "metadata": {},
   "outputs": [],
   "source": [
    "Fphoto = cv2.imread('Flash.jpg')"
   ]
  },
  {
   "cell_type": "code",
   "execution_count": 7,
   "id": "caf837c6",
   "metadata": {},
   "outputs": [],
   "source": [
    "cv2.imshow(\"Flash\",Fphoto)\n",
    "cv2.waitKey()\n",
    "cv2.destroyAllWindows()"
   ]
  },
  {
   "cell_type": "code",
   "execution_count": 8,
   "id": "51b5315d",
   "metadata": {},
   "outputs": [],
   "source": [
    "Fcphoto=Fphoto[40:440,500:760]"
   ]
  },
  {
   "cell_type": "code",
   "execution_count": 9,
   "id": "ba534d29",
   "metadata": {},
   "outputs": [],
   "source": [
    "cv2.imshow(\"Flash\",Fcphoto)\n",
    "cv2.waitKey()\n",
    "cv2.destroyAllWindows()"
   ]
  },
  {
   "cell_type": "code",
   "execution_count": 10,
   "id": "abac8aec",
   "metadata": {},
   "outputs": [
    {
     "data": {
      "text/plain": [
       "True"
      ]
     },
     "execution_count": 10,
     "metadata": {},
     "output_type": "execute_result"
    }
   ],
   "source": [
    "cv2.imwrite(\"Flash_cimage.jpg\",Fcphoto)"
   ]
  },
  {
   "cell_type": "code",
   "execution_count": 11,
   "id": "2d54e76b",
   "metadata": {},
   "outputs": [],
   "source": [
    "Fc=cv2.imread(\"Flash_cimage.jpg\")"
   ]
  },
  {
   "cell_type": "code",
   "execution_count": 12,
   "id": "98702b9f",
   "metadata": {},
   "outputs": [],
   "source": [
    "Sphoto[60:460,320:580]=Fc"
   ]
  },
  {
   "cell_type": "code",
   "execution_count": 13,
   "id": "fa7c7f4a",
   "metadata": {},
   "outputs": [],
   "source": [
    "cv2.imshow(\"Spiderman + Flash\",Sphoto)\n",
    "cv2.waitKey()\n",
    "cv2.destroyAllWindows()"
   ]
  },
  {
   "cell_type": "code",
   "execution_count": 14,
   "id": "752fc831",
   "metadata": {},
   "outputs": [],
   "source": [
    "Sc=cv2.imread(\"Spiderman_cimage.jpg\")"
   ]
  },
  {
   "cell_type": "code",
   "execution_count": 15,
   "id": "0fd98846",
   "metadata": {},
   "outputs": [],
   "source": [
    "Fphoto[40:440,500:760]=Sc"
   ]
  },
  {
   "cell_type": "code",
   "execution_count": 16,
   "id": "91790950",
   "metadata": {},
   "outputs": [],
   "source": [
    "cv2.imshow(\"Spiderman + Flash\",Fphoto)\n",
    "cv2.waitKey()\n",
    "cv2.destroyAllWindows()"
   ]
  },
  {
   "cell_type": "code",
   "execution_count": null,
   "id": "d9d9d2a4",
   "metadata": {},
   "outputs": [],
   "source": []
  },
  {
   "cell_type": "code",
   "execution_count": null,
   "id": "f186de17",
   "metadata": {},
   "outputs": [],
   "source": []
  },
  {
   "cell_type": "code",
   "execution_count": null,
   "id": "d2ff85d1",
   "metadata": {},
   "outputs": [],
   "source": []
  }
 ],
 "metadata": {
  "kernelspec": {
   "display_name": "Python 3",
   "language": "python",
   "name": "python3"
  },
  "language_info": {
   "codemirror_mode": {
    "name": "ipython",
    "version": 3
   },
   "file_extension": ".py",
   "mimetype": "text/x-python",
   "name": "python",
   "nbconvert_exporter": "python",
   "pygments_lexer": "ipython3",
   "version": "3.6.2"
  }
 },
 "nbformat": 4,
 "nbformat_minor": 5
}
